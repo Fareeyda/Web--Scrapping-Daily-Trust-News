{
 "cells": [
  {
   "attachments": {},
   "cell_type": "markdown",
   "metadata": {},
   "source": [
    "Web Scrapping\n"
   ]
  },
  {
   "cell_type": "code",
   "execution_count": 4,
   "metadata": {},
   "outputs": [
    {
     "name": "stdout",
     "output_type": "stream",
     "text": [
      "200\n"
     ]
    }
   ],
   "source": [
    "import requests\n",
    "from bs4 import BeautifulSoup\n",
    "url = 'https://dailytrust.com/bandits-gun-down-dpo-in-zamfara/'\n",
    "response = requests.get(url)\n",
    "# lets check the status\n",
    "status = response.status_code\n",
    "print(status)"
   ]
  },
  {
   "cell_type": "code",
   "execution_count": 1,
   "metadata": {},
   "outputs": [
    {
     "name": "stdout",
     "output_type": "stream",
     "text": [
      "Bandits gun down DPO in Zamfara - Daily Trust\n",
      "Bandits have killed SP Kazeem Raheem, a Divisional Police Officer in Maru town, headquarters of Maru local government area of Zamfara state. Raheem was killed…\n",
      "Bandits have killed SP Kazeem Raheem, a Divisional Police Officer in Maru town, headquarters of Maru local government area of Zamfara state.\n",
      "Raheem was killed alongside a yet to be identified police sergeant and a vigilante.\n",
      "A resident, who craved for anonymity, told Daily Trust that the criminals had invaded the town to Kidnap a businessman identified as Alhaji Iliyasu.\n",
      "The armed men had earlier abducted his brother who was reportedly freed after ransom was paid. They came again to kidnap him but he managed to escape, while they took his wife.\n",
      "The DPO mobilized his men to foil the attempt by the criminals to kidnap the businessman but lost his life in the gunfight.\n",
      "Bandits kill 52-year-old farmer in Niger\n",
      "Soldiers save electoral officials from bandits in Niger\n",
      "“It was a terrible experience. I woke up at the sound of heavy gunfire around 2am. Maru town has been under constant attack by these criminals, several people were kidnapped in the past one year.\n",
      "The spokesman of the state police command, SP Muhammad Shehu, could not be reached for comment as his phone lines were switched off at the time of filing this report.\n",
      "Bandits have continued to make life unbearable for residents of North West despite repeated assurances to bring the situation under control.\n"
     ]
    }
   ],
   "source": [
    "import requests\n",
    "from bs4 import BeautifulSoup\n",
    "\n",
    "url = 'https://dailytrust.com/bandits-gun-down-dpo-in-zamfara/'\n",
    "\n",
    "response = requests.get(url)\n",
    "content = response.content\n",
    "soup = BeautifulSoup(content, 'html.parser')\n",
    "print(soup.title.get_text())\n",
    "\n",
    "paragraphs = soup.find_all('p')\n",
    "for paragraph in paragraphs:\n",
    "    print(paragraph.get_text())"
   ]
  },
  {
   "cell_type": "code",
   "execution_count": 5,
   "metadata": {},
   "outputs": [
    {
     "name": "stdout",
     "output_type": "stream",
     "text": [
      "200\n"
     ]
    }
   ],
   "source": [
    "import requests\n",
    "from bs4 import BeautifulSoup\n",
    "url = 'https://dailytrust.com/nigeria-daily-challenges-awaiting-the-incoming-president/'\n",
    "response = requests.get(url)\n",
    "# lets check the status\n",
    "status = response.status_code\n",
    "print(status)"
   ]
  },
  {
   "cell_type": "code",
   "execution_count": 3,
   "metadata": {},
   "outputs": [
    {
     "name": "stdout",
     "output_type": "stream",
     "text": [
      "NIGERIA DAILY: Challenges Awaiting The Incoming President - Daily Trust\n",
      "Download Here         The elections and result collation have been concluded, and the candidate of the ruling APC Bola Ahmed Tinubu has…\n",
      "Download Here\n",
      " \n",
      " \n",
      " \n",
      " \n",
      "The elections and result collation have been concluded, and the candidate of the ruling APC Bola Ahmed Tinubu has been declared winner.\n",
      "NIGERIA DAILY: Real Reasons INEC Cannot Halt Result Collation\n",
      "THE BEARING: What First Time Voters Should Do On Election Day\n",
      " \n",
      "What challenges lie ahead of him?\n",
      "In this episode of our Daily podcast, we will be looking at the challenges the president elect will most likely face on his assumption of office.\n"
     ]
    }
   ],
   "source": [
    "\n",
    "import requests\n",
    "from bs4 import BeautifulSoup\n",
    "\n",
    "url = 'https://dailytrust.com/nigeria-daily-challenges-awaiting-the-incoming-president/'\n",
    "\n",
    "response = requests.get(url)\n",
    "content = response.content\n",
    "soup = BeautifulSoup(content, 'html.parser')\n",
    "print(soup.title.get_text())\n",
    "\n",
    "paragraphs = soup.find_all('p')\n",
    "for paragraph in paragraphs:\n",
    "    print(paragraph.get_text())"
   ]
  }
 ],
 "metadata": {
  "kernelspec": {
   "display_name": "Arewads",
   "language": "python",
   "name": "python3"
  },
  "language_info": {
   "codemirror_mode": {
    "name": "ipython",
    "version": 3
   },
   "file_extension": ".py",
   "mimetype": "text/x-python",
   "name": "python",
   "nbconvert_exporter": "python",
   "pygments_lexer": "ipython3",
   "version": "3.10.9"
  },
  "orig_nbformat": 4,
  "vscode": {
   "interpreter": {
    "hash": "ce4ab39d237ab020d1f66999490bb71f6e444211230b10a68dfb7657e2ce5ad4"
   }
  }
 },
 "nbformat": 4,
 "nbformat_minor": 2
}
